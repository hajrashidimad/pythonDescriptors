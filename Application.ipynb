{
 "cells": [
  {
   "cell_type": "markdown",
   "id": "283cad0c",
   "metadata": {},
   "source": [
    "## Create class that verifie number to be integer:"
   ]
  },
  {
   "cell_type": "raw",
   "id": "0c030986",
   "metadata": {},
   "source": [
    "This class use descriptors, type:data-descriptor"
   ]
  },
  {
   "cell_type": "code",
   "execution_count": 25,
   "id": "e60adf68",
   "metadata": {},
   "outputs": [],
   "source": [
    "class Int:\n",
    "    def __set_name__(self, ownerClass, propName):\n",
    "        self.propName = propName\n",
    "        \n",
    "    def __set__(self, instance, value):\n",
    "        if not isinstance(value, int):\n",
    "            raise TypeError(f'The value {self.propName} must be an integer.')\n",
    "        instance.__dict__[self.propName] = value\n",
    "        \n",
    "    def __get__(self, instance, ownerClass):\n",
    "        if instance is None:\n",
    "            return self\n",
    "        else :\n",
    "            return instance.__dict__.get(self.propName, None)"
   ]
  },
  {
   "cell_type": "raw",
   "id": "86ce8728",
   "metadata": {},
   "source": [
    "We do same thing for float, type: data-descriptor"
   ]
  },
  {
   "cell_type": "code",
   "execution_count": 26,
   "id": "fab504c3",
   "metadata": {},
   "outputs": [],
   "source": [
    "class Float:\n",
    "    def __set_name__(self, ownerClass, propName):\n",
    "        self.propName = propName\n",
    "        \n",
    "    def __set__(self, instance, value):\n",
    "        if not isinstance(value, float):\n",
    "            raise TypeError(f'The value {self.propName} must be a float.')\n",
    "        instance.__dict__[self.propName] = value\n",
    "        \n",
    "    def __get__(self, instance, ownerClass):\n",
    "        if instance is None:\n",
    "            return self\n",
    "        else :\n",
    "            return instance.__dict__.get(self.propName, None)"
   ]
  },
  {
   "cell_type": "raw",
   "id": "2c544b20",
   "metadata": {},
   "source": [
    "Let's create our class to use it:"
   ]
  },
  {
   "cell_type": "code",
   "execution_count": 27,
   "id": "bee62c6d",
   "metadata": {},
   "outputs": [],
   "source": [
    "class Person:\n",
    "    age = Int()\n",
    "    height = Float()"
   ]
  },
  {
   "cell_type": "raw",
   "id": "0845cf6c",
   "metadata": {},
   "source": [
    "Let's test it:"
   ]
  },
  {
   "cell_type": "code",
   "execution_count": 28,
   "id": "21a3c645",
   "metadata": {},
   "outputs": [
    {
     "name": "stdout",
     "output_type": "stream",
     "text": [
      "The value age must be an integer.\n"
     ]
    }
   ],
   "source": [
    "personOne = Person()\n",
    "try:\n",
    "    personOne.age = 25.5\n",
    "except TypeError as ex:\n",
    "    print(ex)"
   ]
  },
  {
   "cell_type": "raw",
   "id": "491fb9d0",
   "metadata": {},
   "source": [
    "But as you see like me, there is a problem, we made copy past for our code and it's not very practic, let's try to adjust them:"
   ]
  },
  {
   "cell_type": "code",
   "execution_count": 29,
   "id": "3d49cbe6",
   "metadata": {},
   "outputs": [],
   "source": [
    "class TypeValidate:\n",
    "    def __init__(self, typeOfIns):\n",
    "        self.typeOfIns = typeOfIns\n",
    "    \n",
    "    def __set_name__(self, ownerClass, propName):\n",
    "        self.propName = propName\n",
    "        \n",
    "    def __set__(self, instance, value):\n",
    "        if not isinstance(value, self.typeOfIns):\n",
    "            raise TypeError(f'The value {self.propName} must be type of {self.typeOfIns.__name__}.')\n",
    "        instance.__dict__[self.propName] = value\n",
    "        \n",
    "    def __get__(self, instance, ownerClass):\n",
    "        if instance is None:\n",
    "            return self\n",
    "        else :\n",
    "            return instance.__dict__.get(self.propName, None)"
   ]
  },
  {
   "cell_type": "raw",
   "id": "2cf1b8ff",
   "metadata": {},
   "source": [
    "Do same thing as befor:"
   ]
  },
  {
   "cell_type": "code",
   "execution_count": 31,
   "id": "f912bf34",
   "metadata": {},
   "outputs": [],
   "source": [
    "class Person:\n",
    "    age = TypeValidate(int)\n",
    "    height = TypeValidate(float)"
   ]
  },
  {
   "cell_type": "raw",
   "id": "0e735365",
   "metadata": {},
   "source": [
    "Let's test it:"
   ]
  },
  {
   "cell_type": "code",
   "execution_count": 32,
   "id": "6b75a2e6",
   "metadata": {},
   "outputs": [
    {
     "name": "stdout",
     "output_type": "stream",
     "text": [
      "The value age must be type of int.\n"
     ]
    }
   ],
   "source": [
    "personOne = Person()\n",
    "try:\n",
    "    personOne.age = 25.5\n",
    "except TypeError as ex:\n",
    "    print(ex)"
   ]
  },
  {
   "cell_type": "raw",
   "id": "657503fb",
   "metadata": {},
   "source": [
    "As you can see, we can validate any type of data without dose a lot of code.\n",
    "If you need more information please visite this cours:\n",
    "https://www.udemy.com/course/python-3-deep-dive-part-4/\n",
    "Personally i learned a lot of thing from the course owner"
   ]
  }
 ],
 "metadata": {
  "kernelspec": {
   "display_name": "Python 3 (ipykernel)",
   "language": "python",
   "name": "python3"
  },
  "language_info": {
   "codemirror_mode": {
    "name": "ipython",
    "version": 3
   },
   "file_extension": ".py",
   "mimetype": "text/x-python",
   "name": "python",
   "nbconvert_exporter": "python",
   "pygments_lexer": "ipython3",
   "version": "3.9.13"
  }
 },
 "nbformat": 4,
 "nbformat_minor": 5
}
